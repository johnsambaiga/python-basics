{
 "cells": [
  {
   "cell_type": "markdown",
   "id": "39cb49e2",
   "metadata": {},
   "source": [
    "This a code about dicing"
   ]
  },
  {
   "cell_type": "code",
   "execution_count": null,
   "id": "91675d2c",
   "metadata": {},
   "outputs": [],
   "source": [
    "from random import randint, uniform\n",
    "a = randint(0, 100)\n",
    "print(a)\n",
    "if a > 20:\n",
    "    print(\"haha you lost\")\n",
    "else:\n",
    "    print(\"you made it but ill get you next time\")"
   ]
  },
  {
   "cell_type": "markdown",
   "id": "6355896e",
   "metadata": {},
   "source": [
    "#### GHOST gamE 1.0 og"
   ]
  },
  {
   "cell_type": "code",
   "execution_count": null,
   "id": "6052f5e6",
   "metadata": {},
   "outputs": [],
   "source": [
    "uniform(0, 1)"
   ]
  },
  {
   "cell_type": "code",
   "execution_count": null,
   "id": "39106751",
   "metadata": {},
   "outputs": [],
   "source": [
    "#### GHOST gamE 1.0 og\n",
    "\n",
    "from random import randint\n",
    "print(\"ghost game\")\n",
    "print(\"only worthy players play\")\n",
    "check_player =input(\"are you a worthy player? (y/n)\")\n",
    "player_name = input(\"enter your name:\")\n",
    "if check_player.lower() == \"y\":\n",
    "    print(\"welcome worthy player\")\n",
    "    print(\"if you want to be more than average than you must get a score of 5 in a row\")\n",
    "    print(\"id you want be a legend you score 10 in a row\")\n",
    "else:\n",
    "    print(\"don't play if your not a worthy player\")\n",
    "    print(\" you are not a ready opponet\") \n",
    "feeling_brave = True\n",
    "score = 0\n",
    "while feeling_brave:\n",
    "    goost_luck = uniform(0, 1)\n",
    "    ghost_door = randint(1, 3) \n",
    "    print(\"There are three doors ahead...\")\n",
    "    print(\"pick wisely\")\n",
    "    print(\"theres a ghost behind one.\")\n",
    "    print(\" which door do you open?\")\n",
    "    print(\"pick a door 1, 2, or 3?\")\n",
    "    door = input(\"1, 2 or 3?\")\n",
    "    door_num = int(door)\n",
    "    if goost_luck > 0.5:\n",
    "        print(\"you are lucky\")\n",
    "        feeling_brave = True\n",
    "    else:\n",
    "        print(\"you are unlucky\")\n",
    "        feeling_brave = False\n",
    "    if goost_luck > 0.5:\n",
    "        print(\"you are brave\")\n",
    "        feeling_brave = True\n",
    "    #if door_num == ghost_door:\n",
    "    #    print(\"GHOST!\")\n",
    "    #    feeling_brave = False\n",
    "    else:\n",
    "        print(f\"you are not brave by {goost_luck}\" ) \n",
    "        print(\"you are safe\")\n",
    "        print(\"No ghost!\")\n",
    "        print(\"you enter the next room\")\n",
    "        score = score + 1\n",
    "print(\"Run away!\")\n",
    "print(\"Game over! You scored\", score)\n",
    "print(\"well done\", player_name)\n",
    "    \n",
    "    "
   ]
  },
  {
   "cell_type": "code",
   "execution_count": null,
   "id": "f66d6213",
   "metadata": {},
   "outputs": [],
   "source": [
    "a = \"impossible\"\n",
    "a[3:6]"
   ]
  }
 ],
 "metadata": {
  "kernelspec": {
   "display_name": "base",
   "language": "python",
   "name": "python3"
  },
  "language_info": {
   "codemirror_mode": {
    "name": "ipython",
    "version": 3
   },
   "file_extension": ".py",
   "mimetype": "text/x-python",
   "name": "python",
   "nbconvert_exporter": "python",
   "pygments_lexer": "ipython3",
   "version": "3.7.4"
  }
 },
 "nbformat": 4,
 "nbformat_minor": 5
}
