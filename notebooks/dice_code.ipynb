{
 "cells": [
  {
   "cell_type": "markdown",
   "id": "39cb49e2",
   "metadata": {},
   "source": [
    "This a code about dicing"
   ]
  },
  {
   "cell_type": "code",
   "execution_count": null,
   "id": "91675d2c",
   "metadata": {},
   "outputs": [],
   "source": [
    "from random import randint, uniform\n",
    "a = randint(0, 100)\n",
    "print(a)\n",
    "if a > 20:\n",
    "    print(\"haha you lost\")\n",
    "else:\n",
    "    print(\"you made it but ill get you next time\")"
   ]
  },
  {
   "cell_type": "markdown",
   "id": "6355896e",
   "metadata": {},
   "source": [
    "#### GHOST gamE 1.0 og"
   ]
  },
  {
   "cell_type": "code",
   "execution_count": null,
   "id": "6052f5e6",
   "metadata": {},
   "outputs": [],
   "source": [
    "uniform(0, 1)"
   ]
  },
  {
   "cell_type": "code",
   "execution_count": null,
   "id": "39106751",
   "metadata": {},
   "outputs": [],
   "source": [
    "#### GHOST gamE 1.0 og\n",
    "\n",
    "from random import randint, uniform\n",
    "print(\"ghost game\")\n",
    "print(\"only worthy players play\")\n",
    "check_player =input(\"are you a worthy player? (y/n)\")\n",
    "player_name = input(\"enter your name:\")\n",
    "if check_player.lower() == \"y\":\n",
    "    print(\"welcome worthy player\")\n",
    "    print(\"you have to get three in a row to pass this next challange\")\n",
    "else:\n",
    "    print(\"don't play if your not a worthy player\")\n",
    "    print(\" you are not a ready opponet\")\n",
    "    print(\"try the easiar game\") \n",
    "feeling_brave = True\n",
    "score = 0\n",
    "while feeling_brave:\n",
    "    goost_luck = uniform(0, 1)\n",
    "    ghost_door = randint(1, 3) \n",
    "    print(\"There are three doors ahead...\")\n",
    "    print(\"pick wisely\")\n",
    "    print(\"theres a ghost behind one.\")\n",
    "    print(\" which door do you open?\")\n",
    "    print(\"pick a door 1, 2, or 3?\")\n",
    "    door = input(\"1, 2 or 3?\")\n",
    "    door_num = int(door)\n",
    "    if goost_luck > 0.5:\n",
    "        feeling_brave = True\n",
    "    else:\n",
    "        print(\"you survived\")\n",
    "        feeling_brave = True\n",
    "    if goost_luck > 0.5:\n",
    "        print(\"you lost\")\n",
    "        feeling_brave = False\n",
    "    #if door_num == ghost_door:\n",
    "    #    print(\"GHOST!\")\n",
    "    #    feeling_brave = False\n",
    "    else:\n",
    "        print(f\"you are safe by {goost_luck}\" ) \n",
    "        print(\"you are safe\")\n",
    "        print(\"NO ghost!\")\n",
    "        score = score + 1\n",
    "        if score + 3 :\n",
    "         print(\"wow you got three in a row\")\n",
    "print(\"Run away!\")\n",
    "print(\"Game over! You scored\", score)\n",
    "print(\"you survived but not for long\")"
   ]
  },
  {
   "cell_type": "code",
   "execution_count": null,
   "id": "1d020424",
   "metadata": {
    "vscode": {
     "languageId": "markdown"
    }
   },
   "outputs": [],
   "source": [
    "answer_1 = \"y\"\n",
    "while answer_1 == \"y\"\n",
    "    print(\"Stay very still\") \n",
    "    answer = input(\"Is the monster friendly? (y/n)\")\n",
    "    print(\"Run away!\")\n",
    "answer_2 = \"n\"\n",
    "while answer_2 == \"n\"\n",
    "    print(\"is the banana hungry? (y/n)\")\n",
    "    print(\"banana's can get very hungry so run\")\n",
    "\n",
    "\n"
   ]
  },
  {
   "cell_type": "code",
   "execution_count": null,
   "id": "948d0175",
   "metadata": {
    "vscode": {
     "languageId": "markdown"
    }
   },
   "outputs": [
    {
     "ename": "SyntaxError",
     "evalue": "invalid syntax (<ipython-input-12-c5b176074a2f>, line 8)",
     "output_type": "error",
     "traceback": [
      "\u001b[1;36m  File \u001b[1;32m\"<ipython-input-12-c5b176074a2f>\"\u001b[1;36m, line \u001b[1;32m8\u001b[0m\n\u001b[1;33m    if answer not \"a\":\u001b[0m\n\u001b[1;37m                    ^\u001b[0m\n\u001b[1;31mSyntaxError\u001b[0m\u001b[1;31m:\u001b[0m invalid syntax\n"
     ]
    }
   ],
   "source": [
    "from random import randint\n",
    "a = randint(\"y, n\")\n",
    "answer = \"a\"\n",
    "while answer == \"a\":\n",
    "    print(\"is the banana angry (y/n)\")\n",
    "if answer == \"a\":\n",
    "    print(\"run away!\")    \n",
    "else:\n",
    "    print(\"your safe\")\n",
    "\n",
    "\n",
    "\n",
    "\n",
    "\n"
   ]
  }
 ],
 "metadata": {
  "kernelspec": {
   "display_name": "base",
   "language": "python",
   "name": "python3"
  },
  "language_info": {
   "codemirror_mode": {
    "name": "ipython",
    "version": 3
   },
   "file_extension": ".py",
   "mimetype": "text/x-python",
   "name": "python",
   "nbconvert_exporter": "python",
   "pygments_lexer": "ipython3",
   "version": "3.7.4"
  }
 },
 "nbformat": 4,
 "nbformat_minor": 5
}
