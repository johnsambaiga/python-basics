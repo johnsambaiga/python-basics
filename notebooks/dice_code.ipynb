{
 "cells": [
  {
   "cell_type": "markdown",
   "id": "39cb49e2",
   "metadata": {},
   "source": [
    "This a code about dicing"
   ]
  },
  {
   "cell_type": "code",
   "execution_count": null,
   "id": "91675d2c",
   "metadata": {},
   "outputs": [],
   "source": [
    "from random import randint, uniform\n",
    "a = randint(0, 100)\n",
    "print(a)\n",
    "if a > 20:\n",
    "    print(\"haha you lost\")\n",
    "else:\n",
    "    print(\"you made it but ill get you next time\")"
   ]
  },
  {
   "cell_type": "markdown",
   "id": "6355896e",
   "metadata": {},
   "source": [
    "#### GHOST gamE 1.0 original game made by the producer of jhony boy"
   ]
  },
  {
   "cell_type": "code",
   "execution_count": null,
   "id": "3102f253",
   "metadata": {},
   "outputs": [],
   "source": []
  },
  {
   "cell_type": "code",
   "execution_count": null,
   "id": "39106751",
   "metadata": {},
   "outputs": [],
   "source": [
    "#### GHOST gamE 1.0 og\n",
    "\n",
    "from random import randint, uniform\n",
    "print(\"ghost game\")\n",
    "print(\"only worthy players play\")\n",
    "check_player =input(\"are you a worthy player? (y/n)\")\n",
    "player_name = input(\"enter your name:\")\n",
    "if check_player.lower() == \"y\":\n",
    "    print(\"welcome worthy player\")\n",
    "    print(\"you have to get three in a row to pass this next challange\")\n",
    "else:\n",
    "    print(\"don't play if your not a worthy player\")\n",
    "    print(\" you are not a ready opponet\")\n",
    "    print(\"try the easiar game\") \n",
    "feeling_brave = True\n",
    "score = 0\n",
    "while feeling_brave:\n",
    "    goost_luck = uniform(0, 1)\n",
    "    ghost_door = randint(1, 3) \n",
    "    print(\"There are three doors ahead...\")\n",
    "    print(\"pick wisely\")\n",
    "    print(\"theres a ghost behind one.\")\n",
    "    print(\" which door do you open?\")\n",
    "    print(\"pick a door 1, 2, or 3?\")\n",
    "    door = input(\"1, 2 or 3?\")\n",
    "    door_num = int(door)\n",
    "    if goost_luck > 0.5:\n",
    "        feeling_brave = True\n",
    "    else:\n",
    "        print(\"you survived\")\n",
    "        feeling_brave = True\n",
    "    if goost_luck > 0.5:\n",
    "        print(\"you lost\")\n",
    "        feeling_brave = False\n",
    "    #if door_num == ghost_door:\n",
    "    #    print(\"GHOST!\")\n",
    "    #    feeling_brave = False\n",
    "    else:\n",
    "        print(f\"you are safe by {goost_luck}\" ) \n",
    "        print(\"you are safe\")\n",
    "        print(\"NO ghost!\")\n",
    "        score = score + 1\n",
    "        if score + 3 :\n",
    "         print(\"wow you got three in a row\")\n",
    "print(\"Run away!\")\n",
    "print(\"Game over! You scored\", score)\n",
    "print(\"you lost\")"
   ]
  },
  {
   "cell_type": "code",
   "execution_count": null,
   "id": "acae9ecb",
   "metadata": {},
   "outputs": [],
   "source": [
    "##### y/n function python.3.5"
   ]
  },
  {
   "cell_type": "code",
   "execution_count": null,
   "id": "1d020424",
   "metadata": {
    "vscode": {
     "languageId": "markdown"
    }
   },
   "outputs": [],
   "source": [
    "answer = \"y\"\n",
    "while answer == \"y\":\n",
    "    print(\"stay very still\")\n",
    "    input(\"did you eat a banana (y/n)\")\n",
    "    answer = input(\"did you touch grass (y/n)\")\n",
    "    input(\"did you eat  vegatables today (y/n)\")\n",
    "    answer = input(\"are you sure? (y/n)\")\n",
    "    answer = input(\"are you not sure (y/n)\")\n",
    "print(\"then go eat a vegatable\")\n",
    "\n",
    "\n"
   ]
  },
  {
   "cell_type": "markdown",
   "id": "54201b38",
   "metadata": {},
   "source": [
    "  "
   ]
  },
  {
   "cell_type": "markdown",
   "id": "2504002e",
   "metadata": {},
   "source": [
    "##### (\"THe BREAK LOOOOOOOOOOOOP level easy 1.0!\") by jhony boy producer"
   ]
  },
  {
   "cell_type": "code",
   "execution_count": null,
   "id": "81f72f2b",
   "metadata": {
    "vscode": {
     "languageId": "markdown"
    }
   },
   "outputs": [],
   "source": [
    "from random import randint\n",
    "a = randint(1,12)\n",
    "table = a\n",
    "print(\"welcome to part 1 of the second game\")\n",
    "print(\"if you want to stop the game enter stop\")\n",
    "table = a\n",
    "for i in range(1, 12):\n",
    "    print(\"What's\", i, \"x\", table, \"?\")\n",
    "    geuss = input()\n",
    "    if geuss == \"stop\":\n",
    "       break\n",
    "    ans = i * table\n",
    "    if int(geuss) == ans:\n",
    "        print(\"Finally somone who knows the answer!\")\n",
    "    else:\n",
    "        print(\"No, how do you not know it's\", ans)\n",
    "print(\"Finished\")\n"
   ]
  },
  {
   "cell_type": "code",
   "execution_count": null,
   "id": "459cf762",
   "metadata": {
    "vscode": {
     "languageId": "markdown"
    }
   },
   "outputs": [],
   "source": [
    "from random import randint\n",
    "h = randint(11, 24)\n",
    "a = randint(2, 8)\n",
    "print(\"welcome to part 1 of the second game\")\n",
    "print(\"if you want to stop the game enter stop\")\n",
    "table = h\n",
    "for i in range(a, h):\n",
    "    print(\"What's\", i, \"x\", table, \"?\")\n",
    "    geuss = input()\n",
    "    if geuss == \"stop\":\n",
    "       break\n",
    "    ans = i * table\n",
    "    if int(geuss) == ans:\n",
    "        print(\"Finally somone who knows the answer!\")\n",
    "    else:\n",
    "        print(\"No, how do you not know it's\", ans)\n",
    "print(\"Finished\")"
   ]
  }
 ],
 "metadata": {
  "kernelspec": {
   "display_name": "base",
   "language": "python",
   "name": "python3"
  },
  "language_info": {
   "codemirror_mode": {
    "name": "ipython",
    "version": 3
   },
   "file_extension": ".py",
   "mimetype": "text/x-python",
   "name": "python",
   "nbconvert_exporter": "python",
   "pygments_lexer": "ipython3",
   "version": "3.7.4"
  }
 },
 "nbformat": 4,
 "nbformat_minor": 5
}
